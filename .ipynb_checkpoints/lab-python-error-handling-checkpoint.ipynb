{
 "cells": [
  {
   "cell_type": "markdown",
   "id": "25d7736c-ba17-4aff-b6bb-66eba20fbf4e",
   "metadata": {},
   "source": [
    "# Lab | Error Handling"
   ]
  },
  {
   "cell_type": "markdown",
   "id": "bc99b386-7508-47a0-bcdb-d969deaf6c8b",
   "metadata": {},
   "source": [
    "## Exercise: Error Handling for Managing Customer Orders\n",
    "\n",
    "The implementation of your code for managing customer orders assumes that the user will always enter a valid input. \n",
    "\n",
    "For example, we could modify the `initialize_inventory` function to include error handling.\n",
    "   - If the user enters an invalid quantity (e.g., a negative value or a non-numeric value), display an error message and ask them to re-enter the quantity for that product.\n",
    "   - Use a try-except block to handle the error and continue prompting the user until a valid quantity is entered.\n",
    "\n",
    "```python\n",
    "# Step 1: Define the function for initializing the inventory with error handling\n",
    "def initialize_inventory(products):\n",
    "    inventory = {}\n",
    "    for product in products:\n",
    "        valid_quantity = False\n",
    "        while not valid_quantity:\n",
    "            try:\n",
    "                quantity = int(input(f\"Enter the quantity of {product}s available: \"))\n",
    "                if quantity < 0:\n",
    "                    raise ValueError(\"Invalid quantity! Please enter a non-negative value.\")\n",
    "                valid_quantity = True\n",
    "            except ValueError as error:\n",
    "                print(f\"Error: {error}\")\n",
    "        inventory[product] = quantity\n",
    "    return inventory\n",
    "\n",
    "# Or, in another way:\n",
    "\n",
    "def initialize_inventory(products):\n",
    "    inventory = {}\n",
    "    for product in products:\n",
    "        valid_input = False\n",
    "        while not valid_input:\n",
    "            try:\n",
    "                quantity = int(input(f\"Enter the quantity of {product}s available: \"))\n",
    "                if quantity >= 0:\n",
    "                    inventory[product] = quantity\n",
    "                    valid_input = True\n",
    "                else:\n",
    "                    print(\"Quantity cannot be negative. Please enter a valid quantity.\")\n",
    "            except ValueError:\n",
    "                print(\"Invalid input. Please enter a valid quantity.\")\n",
    "    return inventory\n",
    "```\n",
    "\n",
    "Let's enhance your code by implementing error handling to handle invalid inputs.\n",
    "\n",
    "Follow the steps below to complete the exercise:\n",
    "\n",
    "2. Modify the `calculate_total_price` function to include error handling.\n",
    "   - If the user enters an invalid price (e.g., a negative value or a non-numeric value), display an error message and ask them to re-enter the price for that product.\n",
    "   - Use a try-except block to handle the error and continue prompting the user until a valid price is entered.\n",
    "\n",
    "3. Modify the `get_customer_orders` function to include error handling.\n",
    "   - If the user enters an invalid number of orders (e.g., a negative value or a non-numeric value), display an error message and ask them to re-enter the number of orders.\n",
    "   - If the user enters an invalid product name (e.g., a product name that is not in the inventory), or that doesn't have stock available, display an error message and ask them to re-enter the product name. *Hint: you will need to pass inventory as a parameter*\n",
    "   - Use a try-except block to handle the error and continue prompting the user until a valid product name is entered.\n",
    "\n",
    "4. Test your code by running the program and deliberately entering invalid quantities and product names. Make sure the error handling mechanism works as expected.\n"
   ]
  },
  {
   "cell_type": "code",
   "execution_count": 27,
   "id": "500ef004-ff1b-4f38-92c3-cc5932b5d69b",
   "metadata": {},
   "outputs": [],
   "source": [
    "def initialize_inventory(products):\n",
    "    inventory = {}\n",
    "    for product in products:\n",
    "        valid_quantity = False\n",
    "        while not valid_quantity:\n",
    "            try:\n",
    "                quantity = int(input(f\"Enter the quantity of {product}s available: \"))\n",
    "                if quantity < 0:\n",
    "                    raise ValueError(\"Invalid quantity! Please enter a non-negative value.\")\n",
    "                valid_quantity = True\n",
    "            except ValueError as error:\n",
    "                print(f\"Error: {error}\")\n",
    "        inventory[product] = quantity\n",
    "    return inventory"
   ]
  },
  {
   "cell_type": "code",
   "execution_count": 28,
   "id": "f854f6cd-4e3a-4523-ac66-9bb4b7869516",
   "metadata": {},
   "outputs": [
    {
     "name": "stdin",
     "output_type": "stream",
     "text": [
      "Enter the quantity of t-shirts available:  10\n",
      "Enter the quantity of mugs available:  20\n",
      "Enter the quantity of hats available:  30\n",
      "Enter the quantity of books available:  40\n",
      "Enter the quantity of keychains available:  50\n"
     ]
    },
    {
     "name": "stdout",
     "output_type": "stream",
     "text": [
      "{'t-shirt': 10, 'mug': 20, 'hat': 30, 'book': 40, 'keychain': 50}\n"
     ]
    }
   ],
   "source": [
    "products = [\"t-shirt\", \"mug\", \"hat\", \"book\", \"keychain\"]\n",
    "\n",
    "inventory = initialize_inventory(products)\n",
    "\n",
    "print(inventory)"
   ]
  },
  {
   "cell_type": "code",
   "execution_count": 68,
   "id": "47f7b326-1ad0-4e29-9688-2a2b4c788762",
   "metadata": {},
   "outputs": [],
   "source": [
    "#3. Modify the get_customer_orders function to include error handling.\n",
    "#\n",
    "#If the user enters an invalid number of orders (e.g., a negative value or a non-numeric value), display an error message and ask them to re-enter the number of orders.\n",
    "#If the user enters an invalid product name (e.g., a product name that is not in the inventory), or that doesn't have stock available, display an error message and ask them to re-enter the product name. Hint: you will need to pass inventory as a parameter\n",
    "#Use a try-except block to handle the error and continue prompting the user until a valid product name is entered.\n",
    "\n",
    "def get_customer_orders(products):\n",
    "    customer_orders = {}\n",
    "    for product in products:\n",
    "        while True:\n",
    "                \n",
    "            try:\n",
    "                customer_orders[product] = int(input(f\"How many {product}s do you want to order: \").strip())\n",
    "                if customer_orders[product] < 0:\n",
    "                    raise ValueError\n",
    "                if customer_orders[product] > inventory[product]:\n",
    "                    print(f\"There are only {inventory[product]} {product}s in stock. How many would you like to order?\")\n",
    "                    raise ValueError\n",
    "                break\n",
    "            except ValueError:\n",
    "                print(\"Please only input positive integer values. Try again.\")\n",
    "        \n",
    "    return customer_orders"
   ]
  },
  {
   "cell_type": "code",
   "execution_count": 70,
   "id": "d76e914f-4b1d-4bb1-b4a8-0d7bda0e88d1",
   "metadata": {},
   "outputs": [
    {
     "name": "stdin",
     "output_type": "stream",
     "text": [
      "How many t-shirts do you want to order:  54675\n"
     ]
    },
    {
     "name": "stdout",
     "output_type": "stream",
     "text": [
      "There are only 10 t-shirts in stock. How many would you like to order?\n",
      "Please only input positive integer values. Try again.\n"
     ]
    },
    {
     "name": "stdin",
     "output_type": "stream",
     "text": [
      "How many t-shirts do you want to order:  f\n"
     ]
    },
    {
     "name": "stdout",
     "output_type": "stream",
     "text": [
      "Please only input positive integer values. Try again.\n"
     ]
    },
    {
     "name": "stdin",
     "output_type": "stream",
     "text": [
      "How many t-shirts do you want to order:  -2\n"
     ]
    },
    {
     "name": "stdout",
     "output_type": "stream",
     "text": [
      "Please only input positive integer values. Try again.\n"
     ]
    },
    {
     "name": "stdin",
     "output_type": "stream",
     "text": [
      "How many t-shirts do you want to order:  10\n",
      "How many mugs do you want to order:  2\n",
      "How many hats do you want to order:  10\n",
      "How many books do you want to order:  1\n",
      "How many keychains do you want to order:  20\n"
     ]
    },
    {
     "name": "stdout",
     "output_type": "stream",
     "text": [
      "{'t-shirt': 10, 'mug': 2, 'hat': 10, 'book': 1, 'keychain': 20}\n"
     ]
    }
   ],
   "source": [
    "customer_orders = get_customer_orders(products)\n",
    "\n",
    "print(customer_orders)"
   ]
  },
  {
   "cell_type": "code",
   "execution_count": 30,
   "id": "27bf7553-8b3b-458d-9be2-2f941e13279e",
   "metadata": {},
   "outputs": [],
   "source": [
    "def update_inventory(customer_orders, inventory):\n",
    "    new_inventory = {key : (value-1 if key in customer_orders else value) for key, value in inventory.items()}\n",
    "    return new_inventory"
   ]
  },
  {
   "cell_type": "code",
   "execution_count": 31,
   "id": "cf4e1d69-fe84-427c-9a83-7ca0580b7822",
   "metadata": {},
   "outputs": [],
   "source": [
    "def calculate_order_statistics(customer_orders, products):     \n",
    "    num_ordered = len(customer_orders)\n",
    "    pct_ordered = 100 * len(customer_orders) / len(products) \n",
    "    order_statistics = num_ordered, pct_ordered\n",
    "    return order_statistics\n",
    "\n",
    "def print_order_statistics(order_statistics):\n",
    "    print(\"Total unique products ordered: \" + str(num_ordered))\n",
    "    print(\"Percentage of product range ordered: \" + str(pct_ordered) + \"%\")\n"
   ]
  },
  {
   "cell_type": "code",
   "execution_count": 32,
   "id": "58986cca-fe75-4e16-9c7b-09a5e8df08a8",
   "metadata": {},
   "outputs": [],
   "source": [
    "def print_updated_inventory(inventory):\n",
    "    print(inventory)"
   ]
  },
  {
   "cell_type": "code",
   "execution_count": 33,
   "id": "7f0a32ab-b408-4ff7-8431-df8b9624c126",
   "metadata": {},
   "outputs": [
    {
     "name": "stdin",
     "output_type": "stream",
     "text": [
      "Enter the quantity of t-shirts available:  10\n",
      "Enter the quantity of mugs available:  20\n",
      "Enter the quantity of hats available:  30\n",
      "Enter the quantity of books available:  40\n",
      "Enter the quantity of keychains available:  50\n",
      "How many t-shirts do you want to order:  1\n",
      "How many mugs do you want to order:  0\n",
      "How many hats do you want to order:  2\n",
      "How many books do you want to order:  0\n",
      "How many keychains do you want to order:  5\n"
     ]
    },
    {
     "name": "stdout",
     "output_type": "stream",
     "text": [
      "Total unique products ordered: 5\n",
      "Percentage of product range ordered: 100.0%\n",
      "{'t-shirt': 9, 'mug': 19, 'hat': 29, 'book': 39, 'keychain': 49}\n"
     ]
    }
   ],
   "source": [
    "products = [\"t-shirt\", \"mug\", \"hat\", \"book\", \"keychain\"]\n",
    "inventory = initialize_inventory(products)\n",
    "customer_orders = get_customer_orders(products)\n",
    "new_inventory = update_inventory(customer_orders, inventory)\n",
    "order_statistics = calculate_order_statistics(customer_orders, products)\n",
    "num_ordered, pct_ordered = order_statistics\n",
    "print_order_statistics(order_statistics)\n",
    "\n",
    "print(new_inventory)\n"
   ]
  },
  {
   "cell_type": "code",
   "execution_count": 34,
   "id": "e79e0758-332e-4869-9844-7bd93f3d1cc8",
   "metadata": {},
   "outputs": [],
   "source": [
    "#2. Modify the calculate_total_price function to include error handling.\n",
    "#If the user enters an invalid price (e.g., a negative value or a non-numeric value), \n",
    "#display an error message and ask them to re-enter the price for that product.\n",
    "#\n",
    "#Use a try-except block to handle the error and continue prompting the user until a valid price is entered.\n",
    "\n",
    "\n",
    "products = [\"t-shirt\", \"mug\", \"hat\", \"book\", \"keychain\"]\n",
    "\n",
    "def product_price(products):\n",
    "    price_list = {}\n",
    "    for product in products:\n",
    "        while True:\n",
    "            try:\n",
    "                price = float(input(f\"What is the price of a {product}? \"))\n",
    "                if price < 0:\n",
    "                    raise ValueError\n",
    "                price_list[product] = price\n",
    "                break\n",
    "            except ValueError:\n",
    "                print(\"Please only input positive integer values. Try again.\")\n",
    "    \n",
    "    \n",
    "    return price_list"
   ]
  },
  {
   "cell_type": "code",
   "execution_count": 35,
   "id": "a15a4d84-38c3-41e1-a99e-fcb7a50fbe96",
   "metadata": {},
   "outputs": [
    {
     "name": "stdin",
     "output_type": "stream",
     "text": [
      "What is the price of a t-shirt?  9\n",
      "What is the price of a mug?  6.50\n",
      "What is the price of a hat?  7.1\n",
      "What is the price of a book?  12.5\n",
      "What is the price of a keychain?  2.1\n"
     ]
    },
    {
     "name": "stdout",
     "output_type": "stream",
     "text": [
      "{'t-shirt': 9.0, 'mug': 6.5, 'hat': 7.1, 'book': 12.5, 'keychain': 2.1}\n"
     ]
    }
   ],
   "source": [
    "prices = product_price(products)\n",
    "\n",
    "print(prices)"
   ]
  },
  {
   "cell_type": "code",
   "execution_count": 36,
   "id": "56bb8b05-1c90-4693-9c2d-d0965eb3ef80",
   "metadata": {},
   "outputs": [],
   "source": [
    "def customer_order_total_price(customer_orders, price_list):\n",
    "    price_per_item = {item : price_list[item] * orders for item, orders in customer_orders.items()}\n",
    "    total_spend = sum(price_per_item.values())\n",
    "    return total_spend"
   ]
  },
  {
   "cell_type": "code",
   "execution_count": 37,
   "id": "63c64370-fd92-4e5b-a780-2271743b5e83",
   "metadata": {},
   "outputs": [
    {
     "name": "stdout",
     "output_type": "stream",
     "text": [
      "Total price for the order is: 33.7\n"
     ]
    }
   ],
   "source": [
    "total_spend = customer_order_total_price(customer_orders, prices)\n",
    "\n",
    "print(f\"Total price for the order is: {total_spend}\")"
   ]
  },
  {
   "cell_type": "code",
   "execution_count": null,
   "id": "5c01094b-ef3a-446b-9c0f-6d7ffb02a81d",
   "metadata": {},
   "outputs": [],
   "source": []
  }
 ],
 "metadata": {
  "kernelspec": {
   "display_name": "Python 3 (ipykernel)",
   "language": "python",
   "name": "python3"
  },
  "language_info": {
   "codemirror_mode": {
    "name": "ipython",
    "version": 3
   },
   "file_extension": ".py",
   "mimetype": "text/x-python",
   "name": "python",
   "nbconvert_exporter": "python",
   "pygments_lexer": "ipython3",
   "version": "3.12.4"
  }
 },
 "nbformat": 4,
 "nbformat_minor": 5
}
